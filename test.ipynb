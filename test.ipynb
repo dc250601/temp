{
 "cells": [
  {
   "cell_type": "code",
   "execution_count": 1,
   "metadata": {},
   "outputs": [],
   "source": [
    "import numpy as np\n",
    "import torch.nn as nn\n",
    "import torch\n",
    "from torchvision import datasets, models, transforms\n",
    "\n",
    "from tqdm.auto import tqdm\n",
    "import matplotlib.pyplot as plt\n",
    "import numpy as np\n",
    "from torchvision.utils import make_grid\n",
    "from torch.utils.data import DataLoader\n",
    "import matplotlib.pyplot as plt\n",
    "from sklearn.metrics import accuracy_score\n",
    "from sklearn.metrics import roc_curve\n",
    "from sklearn import metrics\n",
    "import gc\n",
    "import wandb\n",
    "from coat import *\n",
    "\n",
    "\n",
    "def metric(y_true, y_pred):\n",
    "    fpr, tpr, thresholds = roc_curve(y_true, y_pred)\n",
    "    auc = metrics.auc(fpr, tpr)\n",
    "    return auc\n",
    "\n",
    "def straightner(a):\n",
    "    A = np.zeros((a[0].shape[0]*len(a)))\n",
    "    start_index = 0\n",
    "    end_index = 0\n",
    "    for i in range(len(a)):\n",
    "        start_index = i*a[0].shape[0]\n",
    "        end_index = start_index+a[0].shape[0]\n",
    "        A[start_index:end_index] = a[i]\n",
    "    return A\n",
    "\n",
    "def predictor(outputs):\n",
    "    return np.argmax(outputs, axis = 1)\n"
   ]
  },
  {
   "cell_type": "code",
   "execution_count": 12,
   "metadata": {},
   "outputs": [],
   "source": [
    "image_size = (128,128)\n",
    "in_channels = 3\n",
    "num_blocks = [2, 2, 3, 5, 2]\n",
    "channels = [64, 96, 192, 384, 768]\n",
    "num_classes = 1\n",
    "\n",
    "\n",
    "\n",
    "test_transform = transforms.Compose([transforms.Resize((128,128)),\n",
    "\t\t\t\t\t\t\ttransforms.ToTensor()\n",
    "\t\t\t\t\t\t\t])\n",
    "\n",
    "dataset_Test = datasets.ImageFolder(f'./Test/', transform =test_transform)\n",
    "dataloader_test = torch.utils.data.DataLoader(dataset_Test, batch_size=256, shuffle=True, drop_last = True, num_workers=4, pin_memory = True)\n",
    "dataset_Test1 = datasets.ImageFolder('./sample', transform =test_transform)\n",
    "dataloader_test1 = torch.utils.data.DataLoader(dataset_Test1, batch_size=256, shuffle=True, drop_last = True, num_workers=4, pin_memory = True)\n",
    "#--------------------------------------------------------\n",
    "criterion = nn.BCEWithLogitsLoss()\n"
   ]
  },
  {
   "cell_type": "code",
   "execution_count": 3,
   "metadata": {},
   "outputs": [],
   "source": [
    "import os\n",
    "list_ = os.listdir(\"./weights/\")"
   ]
  },
  {
   "cell_type": "code",
   "execution_count": 10,
   "metadata": {},
   "outputs": [],
   "source": [
    "\n",
    "model = []\n",
    "for i,l in enumerate(list_):\n",
    "    model.append(CoAtNet(image_size = image_size,\n",
    "\t\t\t\t\t\tin_channels = in_channels,\n",
    "\t\t\t\t\t\tnum_blocks = num_blocks,\n",
    "\t\t\t\t\t\tchannels = channels,\n",
    "\t\t\t\t\t\tnum_classes = num_classes))\n",
    "    checkpoint = torch.load(\"./weights/\"+l)\n",
    "    model[i].load_state_dict(checkpoint['model_state_dict'])\n",
    "    model[i].to(\"cuda\")\n",
    "    model[i].eval()"
   ]
  },
  {
   "cell_type": "code",
   "execution_count": 5,
   "metadata": {},
   "outputs": [
    {
     "data": {
      "text/plain": [
       "11"
      ]
     },
     "execution_count": 5,
     "metadata": {},
     "output_type": "execute_result"
    }
   ],
   "source": [
    "i"
   ]
  },
  {
   "cell_type": "code",
   "execution_count": 14,
   "metadata": {},
   "outputs": [
    {
     "data": {
      "application/vnd.jupyter.widget-view+json": {
       "model_id": "768453b344a64027ad03252261420ee8",
       "version_major": 2,
       "version_minor": 0
      },
      "text/plain": [
       "  0%|          | 0/108 [00:04<?, ?it/s]"
      ]
     },
     "metadata": {},
     "output_type": "display_data"
    },
    {
     "name": "stdout",
     "output_type": "stream",
     "text": [
      "The test auc is  0.8130636438075056\n"
     ]
    }
   ],
   "source": [
    "label_list = []\n",
    "outputs_list = []\n",
    "train_loss = 0\n",
    "val_loss = 0\n",
    "train_steps = 0\n",
    "test_steps = 0\n",
    "label_list = []\n",
    "outputs_list = []\n",
    "train_auc = 0\n",
    "test_auc = 0\n",
    "with torch.no_grad():\n",
    "    for image, label in tqdm(dataloader_test):\n",
    "        image = image.to(\"cuda\")\n",
    "        label = label.to(\"cuda\")\n",
    "        outputs = 0\n",
    "        for c,net in enumerate(model):\n",
    "            outputs = outputs + (net(image))\n",
    "        outputs = outputs/c\n",
    "        outputs = nn.Sigmoid()(outputs)\n",
    "# \t\tloss = criterion(outputs, label.float())\n",
    "        label_list.append(label.detach().cpu().numpy())\n",
    "    \n",
    "        outputs_list.append((outputs).detach().cpu().numpy())\n",
    "#         val_loss += loss.item()\n",
    "        test_steps +=1\n",
    "\n",
    "    label_list = straightner(label_list)\n",
    "    outputs_list = straightner(outputs_list)\n",
    "    test_auc = metric(label_list, outputs_list)\n",
    "\n",
    "val_loss = val_loss/ test_steps\n",
    "print('The test auc is ', test_auc)"
   ]
  },
  {
   "cell_type": "code",
   "execution_count": 7,
   "metadata": {},
   "outputs": [
    {
     "ename": "NameError",
     "evalue": "name 'model0' is not defined",
     "output_type": "error",
     "traceback": [
      "\u001b[1;31m---------------------------------------------------------------------------\u001b[0m",
      "\u001b[1;31mNameError\u001b[0m                                 Traceback (most recent call last)",
      "Input \u001b[1;32mIn [7]\u001b[0m, in \u001b[0;36m<cell line: 1>\u001b[1;34m()\u001b[0m\n\u001b[1;32m----> 1\u001b[0m \u001b[43mmodel0\u001b[49m\u001b[38;5;241m.\u001b[39meval()\n\u001b[0;32m      2\u001b[0m model1\u001b[38;5;241m.\u001b[39meval()\n\u001b[0;32m      3\u001b[0m model2\u001b[38;5;241m.\u001b[39meval()\n",
      "\u001b[1;31mNameError\u001b[0m: name 'model0' is not defined"
     ]
    }
   ],
   "source": [
    "model0.eval()\n",
    "model1.eval()\n",
    "model2.eval()\n",
    "label_list = []\n",
    "outputs_list = []\n",
    "train_loss = 0\n",
    "val_loss = 0\n",
    "train_steps = 0\n",
    "test_steps = 0\n",
    "label_list = []\n",
    "outputs_list = []\n",
    "train_auc = 0\n",
    "test_auc = 0\n",
    "with torch.no_grad():\n",
    "    for image, label in tqdm(dataloader_test):\n",
    "        image = image.to(\"cuda\")\n",
    "        label = label.to(\"cuda\")\n",
    "        outputs0 = nn.Sigmoid()(model0(image))\n",
    "        outputs1 = nn.Sigmoid()(model1(image))\n",
    "        outputs2 = nn.Sigmoid()(model2(image))\n",
    "        outputs = (outputs0+outputs1+outputs2)/3\n",
    "# \t\tloss = criterion(outputs, label.float())\n",
    "        label_list.append(label.detach().cpu().numpy())\n",
    "    \n",
    "        outputs_list.append((outputs).detach().cpu().numpy())\n",
    "        val_loss += loss.item()\n",
    "        test_steps +=1\n",
    "\n",
    "    label_list = straightner(label_list)\n",
    "    outputs_list = straightner(outputs_list)\n",
    "    test_auc = metric(label_list, outputs_list)\n",
    "\n",
    "val_loss = val_loss/ test_steps\n",
    "print('The test auc is ', test_auc)"
   ]
  }
 ],
 "metadata": {
  "kernelspec": {
   "display_name": "Python 3 (ipykernel)",
   "language": "python",
   "name": "python3"
  },
  "language_info": {
   "codemirror_mode": {
    "name": "ipython",
    "version": 3
   },
   "file_extension": ".py",
   "mimetype": "text/x-python",
   "name": "python",
   "nbconvert_exporter": "python",
   "pygments_lexer": "ipython3",
   "version": "3.9.13"
  },
  "vscode": {
   "interpreter": {
    "hash": "0839f674c90357cf57b84737cbb78f6691416cdd39bc1077f945d4066e99dfa5"
   }
  }
 },
 "nbformat": 4,
 "nbformat_minor": 2
}
